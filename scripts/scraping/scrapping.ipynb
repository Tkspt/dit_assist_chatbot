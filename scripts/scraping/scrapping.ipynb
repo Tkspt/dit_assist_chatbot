{
 "cells": [
  {
   "cell_type": "code",
   "execution_count": 1,
   "metadata": {},
   "outputs": [
    {
     "name": "stdout",
     "output_type": "stream",
     "text": [
      "Requirement already satisfied: requests in c:\\users\\kiemd\\anaconda3\\lib\\site-packages (2.31.0)\n",
      "Requirement already satisfied: charset-normalizer<4,>=2 in c:\\users\\kiemd\\anaconda3\\lib\\site-packages (from requests) (2.0.4)\n",
      "Requirement already satisfied: idna<4,>=2.5 in c:\\users\\kiemd\\anaconda3\\lib\\site-packages (from requests) (3.4)\n",
      "Requirement already satisfied: urllib3<3,>=1.21.1 in c:\\users\\kiemd\\anaconda3\\lib\\site-packages (from requests) (2.2.2)\n",
      "Requirement already satisfied: certifi>=2017.4.17 in c:\\users\\kiemd\\anaconda3\\lib\\site-packages (from requests) (2024.8.30)\n"
     ]
    },
    {
     "name": "stderr",
     "output_type": "stream",
     "text": [
      "ERROR: unknown command \"installbs4\" - maybe you meant \"install\"\n",
      "\n"
     ]
    },
    {
     "name": "stdout",
     "output_type": "stream",
     "text": [
      "Requirement already satisfied: pandas in c:\\users\\kiemd\\anaconda3\\lib\\site-packages (2.0.3)\n",
      "Requirement already satisfied: python-dateutil>=2.8.2 in c:\\users\\kiemd\\anaconda3\\lib\\site-packages (from pandas) (2.8.2)\n",
      "Requirement already satisfied: pytz>=2020.1 in c:\\users\\kiemd\\anaconda3\\lib\\site-packages (from pandas) (2023.3.post1)\n",
      "Requirement already satisfied: tzdata>=2022.1 in c:\\users\\kiemd\\anaconda3\\lib\\site-packages (from pandas) (2023.3)\n",
      "Requirement already satisfied: numpy>=1.21.0 in c:\\users\\kiemd\\anaconda3\\lib\\site-packages (from pandas) (1.24.3)\n",
      "Requirement already satisfied: six>=1.5 in c:\\users\\kiemd\\anaconda3\\lib\\site-packages (from python-dateutil>=2.8.2->pandas) (1.16.0)\n"
     ]
    }
   ],
   "source": [
    "# Installation des packages\n",
    "!pip install requests\n",
    "!pip installbs4\n",
    "!pip install pandas"
   ]
  },
  {
   "cell_type": "code",
   "execution_count": 2,
   "metadata": {},
   "outputs": [],
   "source": [
    "# Importer les packages \n",
    "from requests import get\n",
    "from bs4 import BeautifulSoup\n",
    "\n",
    "import pandas as pd"
   ]
  },
  {
   "cell_type": "code",
   "execution_count": 3,
   "metadata": {},
   "outputs": [],
   "source": [
    "# Url de la page\n",
    "url = 'https://dit.sn/'\n",
    "\n",
    "# Extraire le code html et le stocker dans une variable\n",
    "response = get(url)\n",
    "\n",
    "# Convertir la variable response en un objet BeautifulSoup\n",
    "html_soup = BeautifulSoup(response.text)\n",
    "\n",
    "why_dit = {\"title\": \"\", \"content\": \"\"}\n",
    "program_dit = {\"title\": \"\", \"content\": \"\"}\n",
    "\n",
    "def recup_accueil_infos():\n",
    "    why_dit_value_containers = html_soup.find_all('div', class_ = 'et_pb_row et_pb_row_2')[0].find_all('p')\n",
    "    paragrap = \"\"\n",
    "    for why_dit_value_container in why_dit_value_containers:\n",
    "        paragrap += why_dit_value_container.text + '\\n'\n",
    "\n",
    "    why_dit['title'] = \"Pourquoi choisir DIT\"\n",
    "    why_dit[\"content\"] = paragrap\n",
    "\n",
    "    programs_value_containers = html_soup.find_all('div', class_ = 'et_pb_section et_pb_section_2 et_section_regular')[0].find_all('h3', class_ = \"et_pb_toggle_title\")\n",
    "    programs = \"\"\n",
    "    for programs_value_container in programs_value_containers:\n",
    "        programs += programs_value_container.text + '\\n'\n",
    "\n",
    "    program_dit['title'] = \"Programmes\"\n",
    "    program_dit[\"content\"] = programs\n",
    "\n",
    "recup_accueil_infos()"
   ]
  },
  {
   "cell_type": "code",
   "execution_count": 4,
   "metadata": {},
   "outputs": [
    {
     "name": "stdout",
     "output_type": "stream",
     "text": [
      "{'title': 'Pourquoi choisir DIT', 'content': 'Rejoignez les leaders dans la formation en IA et big data, avec des diplômes signés par le Ministère de l’Enseignement Supérieur, de la Recherche et de l’Innovation du Sénégal qui nous as reconnu depuis 2021 sous le numéro RepSEN/Ensup-priv/AP/376-2021.\\nHabilités par l’ANAQ-SUP, nous vous proposons des programmes de qualité conçus pour vous préparer aux défis du monde réel dans les domaines de l’IA et du Big Data.\\nNos enseignants sont à majorité des professionnels de leur secteur, au plus près des demandes du marché de l’emploi.\\nLa diversité culturelle est célébrée avec des étudiants représentant plus de 17 nationalités.\\n'}\n",
      "-----------------------------\n",
      "{'title': 'Programmes', 'content': 'Licence Informatique \"Big Data\"\\nMaster \"Intelligence Artificielle\"\\nData Scientist Intensive\\nCertification Python Basics\\nCertification Fullstack Web\\nCertification Data Manager\\n'}\n"
     ]
    }
   ],
   "source": [
    "print(why_dit)\n",
    "print(\"-----------------------------\")\n",
    "print(program_dit)"
   ]
  },
  {
   "cell_type": "code",
   "execution_count": 5,
   "metadata": {},
   "outputs": [],
   "source": [
    "# Url de la page\n",
    "url = 'https://dit.sn/qui-sommes-nous/'\n",
    "response = get(url)\n",
    "html_soup = BeautifulSoup(response.text)\n",
    "\n",
    "our_mission = {\"title\": \"\", \"content\": \"\"}\n",
    "our_mission_containers = html_soup.find_all('div', class_ = 'et_pb_row et_pb_row_1 et_pb_equal_columns')[0].find_all('p')\n",
    "\n",
    "paragrap = \"\"\n",
    "for our_mission_container in our_mission_containers:\n",
    "    paragrap += our_mission_container.text + '\\n'\n",
    "\n",
    "our_mission['title'] = \"Notre mission\"\n",
    "our_mission[\"content\"] = paragrap"
   ]
  },
  {
   "cell_type": "code",
   "execution_count": 97,
   "metadata": {},
   "outputs": [],
   "source": [
    "\n",
    "url = 'https://dit.sn/equipe/'\n",
    "\n",
    "\n",
    "response = get(url)\n",
    "\n",
    "\n",
    "html_soup = BeautifulSoup(response.text)\n",
    "\n",
    "equipe_dit = {\"title\": \"\", \"content\": \"\"}\n",
    "def equipe():\n",
    "    global equipe_dit\n",
    "    equipe_dit = {}\n",
    "    all_paragraphs = \"\"  \n",
    "    \n",
    "    for i in range(2, 14):\n",
    "       \n",
    "        equipe_dit_value_containers = html_soup.find_all('div', class_='et_pb_text_inner')[i].find_all('p')\n",
    "        \n",
    "        paragrap = \"\"\n",
    "        for equipe_dit_value_container in equipe_dit_value_containers:\n",
    "            paragrap += equipe_dit_value_container.text + '\\n'\n",
    "        \n",
    "        all_paragraphs += paragrap + '\\n'  \n",
    "\n",
    "    equipe_dit['title'] = \"Equipe DIT\"\n",
    "    equipe_dit['content'] = all_paragraphs\n",
    "  \n",
    "    \n",
    "equipe()\n"
   ]
  },
  {
   "cell_type": "code",
   "execution_count": 98,
   "metadata": {},
   "outputs": [
    {
     "name": "stdout",
     "output_type": "stream",
     "text": [
      "{'title': 'Equipe DIT', 'content': 'Dr Nicolas POUSSIELGUE\\nDirecteur GénéralCEO\\n\\nDr Seydou Nourou SYLLA\\nDirecteur des EtudesChief Academic Officer\\n\\nSuzanne Kh. SAGNE\\nResponsable CommercialeBusiness Developer\\n\\nAdji Fatou FAYE\\nResponsable de la Formation professionnelle et des partenariatsManager of Professional Training and Partnerships\\n\\nDominique NDOUR\\nResponsable Pédagogique (Cycle Licence)Pedagogical Supervisor\\n\\nNdéye Déguène FALL\\nResponsable Administrative et FinancièreAdministrative and Financial Manager\\n\\nMarie-Pierre BOCANDE\\nResponsable pédagogique (Certifications)Pedagogical supervisor\\n\\nRobert THIAW\\nResponsable Pédagogique (Cycle Master)Pedagogical supervisor\\n\\nAminata Mactar FAYE\\nChargée de mission commerciale et Community ManagerCommercial Agent and Community Manager\\n\\nSarah SIASSIA\\nAssistante PédagogiquePedagogical Assistant\\n\\nMamadou Lamarana DIALLO\\nResponsable logistique et sécuritéLogistics and Security Manager\\n\\nBoubacar DIALLO\\nResponsable QualitéQuality Manager\\n\\n'}\n"
     ]
    }
   ],
   "source": [
    "print(equipe_dit)"
   ]
  },
  {
   "cell_type": "code",
   "execution_count": 184,
   "metadata": {},
   "outputs": [
    {
     "name": "stdout",
     "output_type": "stream",
     "text": [
      "{'title': 'Licence1', 'content': '– Système Unix et installation Linux– Bases du Web (Html, CSS, JS, Hébergement, DNS)– Langage Python, R– Algorithme– Stockage de données dans le cloud– Initiation IoT – Arduino– Outils IA en ligne– Projet informatique\\n'}\n"
     ]
    }
   ],
   "source": [
    "\n",
    "url = 'https://dit.sn/licence-informatique-big-data/'\n",
    "response = get(url)\n",
    "html_soup = BeautifulSoup(response.text)\n",
    "licence1 = {\"title\": \"Licence1\", \"content\": \"\"}\n",
    "licence2 = {\"title\": \"Licence2\", \"content\": \"\"}\n",
    "\n",
    "\n",
    "def formations():\n",
    "    \n",
    "    \n",
    "   \n",
    "    l1 = html_soup.find_all('div', class_='et_pb_text_inner')[4].find_all('p')\n",
    "    module = \"\"\n",
    "    for value in l1:\n",
    "        module += value.text + '\\n'\n",
    "\n",
    "    \n",
    "    licence1[\"content\"] = module\n",
    "    l2 = html_soup.find_all('div', class_='et_pb_text_inner')[5].find_all('p')\n",
    "    module = \"\"\n",
    "    for value in l2:\n",
    "        module += value.text + '\\n'\n",
    "\n",
    "    licence2[\"content\"] = module\n",
    "\n",
    "\n",
    "formations()\n"
   ]
  },
  {
   "cell_type": "code",
   "execution_count": 188,
   "metadata": {},
   "outputs": [
    {
     "name": "stdout",
     "output_type": "stream",
     "text": [
      "{'title': 'Licence1', 'content': '– Système Unix et installation Linux– Bases du Web (Html, CSS, JS, Hébergement, DNS)– Langage Python, R– Algorithme– Stockage de données dans le cloud– Initiation IoT – Arduino– Outils IA en ligne– Projet informatique\\n'}\n",
      "{'title': 'Licence2', 'content': '– Initiation au Machine Learning– Containers et virtualisation– Architecture Big Data– Visualisation des données– Data collection– Data Engineering 1– Infosec– Projet informatique\\n'}\n"
     ]
    }
   ],
   "source": [
    "print(licence1)\n",
    "print(licence2)\n"
   ]
  }
 ],
 "metadata": {
  "kernelspec": {
   "display_name": "my_pt",
   "language": "python",
   "name": "my_pt"
  },
  "language_info": {
   "codemirror_mode": {
    "name": "ipython",
    "version": 3
   },
   "file_extension": ".py",
   "mimetype": "text/x-python",
   "name": "python",
   "nbconvert_exporter": "python",
   "pygments_lexer": "ipython3",
   "version": "3.11.6"
  }
 },
 "nbformat": 4,
 "nbformat_minor": 2
}
